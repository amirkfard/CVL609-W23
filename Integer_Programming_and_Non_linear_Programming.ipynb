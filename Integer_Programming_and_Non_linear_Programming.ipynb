{
  "cells": [
    {
      "cell_type": "code",
      "source": [],
      "metadata": {
        "id": "phfhoLP0otBy"
      },
      "execution_count": 47,
      "outputs": []
    },
    {
      "cell_type": "markdown",
      "metadata": {
        "id": "t0hlF_ckbCNY"
      },
      "source": [
        "# Mixed Integer Programming"
      ]
    },
    {
      "cell_type": "markdown",
      "metadata": {
        "id": "l-ymQ7bDbCNa"
      },
      "source": [
        "The following sections present an example of a MIP problem and show how to solve it. Here's the problem:\n",
        "\n",
        "__Maximize $x + 10y$__ subject to the following constraints:\n",
        "\n",
        "$x + 7 y\t≤\t17.5$\n",
        "\n",
        "$x\t≤\t3.5$\n",
        "\n",
        "$x\t≥\t0$\n",
        "\n",
        "$y\t≥\t0$\n",
        "\n",
        "$x, y$ are integers\n",
        "\n",
        "Since the constraints are linear, this is just a linear optimization problem in which the solutions are required to be integers. The graph below shows the integer points in the feasible region for the problem.\n",
        "\n",
        "\n",
        "<img src=\"https://developers.google.com/optimization/images/mip/feasible_region.png\" width=\"700\">\n",
        "\n",
        "Notice that this problem is very similar to the linear optimization problem, but in this case we require the solutions to be integers.\n",
        "\n"
      ]
    },
    {
      "cell_type": "markdown",
      "source": [
        "##Using Scipy for mixed integer linear programing \n",
        "\n",
        "Check help: https://docs.scipy.org/doc/scipy/reference/generated/scipy.optimize.milp.html\n"
      ],
      "metadata": {
        "id": "F9-DFIzvqx5h"
      }
    },
    {
      "cell_type": "code",
      "source": [
        "import numpy as np\n",
        "from scipy.optimize import milp\n",
        "from scipy.optimize import LinearConstraint\n",
        "\n"
      ],
      "metadata": {
        "id": "eRwlN9ySpz0-"
      },
      "execution_count": 48,
      "outputs": []
    },
    {
      "cell_type": "markdown",
      "source": [
        "Since milp requires that the problem be expressed as a minimization problem, the objective function coefficients on the decision variables are as below.\n",
        "Note the negative sign: we maximize the original objective function by minimizing the negative of the objective function."
      ],
      "metadata": {
        "id": "-wekc5CKtbmA"
      }
    },
    {
      "cell_type": "code",
      "source": [
        "c = -np.array([1, 10])"
      ],
      "metadata": {
        "id": "q-SfwvQPrcVI"
      },
      "execution_count": 49,
      "outputs": []
    },
    {
      "cell_type": "markdown",
      "source": [
        "We collect the coefficients of the constraints into arrays like:"
      ],
      "metadata": {
        "id": "imv3shszzY2B"
      }
    },
    {
      "cell_type": "code",
      "source": [
        "A = np.array([[1, 7], [1, 0]])\n",
        "b_u = np.array([17.5, 3.5])\n",
        "b_l = np.full_like(b_u, -np.inf)   # You can use  np.array([-np.inf, -np.inf])"
      ],
      "metadata": {
        "id": "IzCxggcCpz4M"
      },
      "execution_count": 50,
      "outputs": []
    },
    {
      "cell_type": "code",
      "source": [
        "print(f'\\n A:')\n",
        "print(A , end = '\\n')\n",
        "print(f'\\n b_u:')\n",
        "print(b_u , end = '\\n')\n",
        "print(f'\\n b_l:')\n",
        "print(b_l , end = '\\n')\n"
      ],
      "metadata": {
        "colab": {
          "base_uri": "https://localhost:8080/"
        },
        "id": "sSVQr3qHwCel",
        "outputId": "eb384a9b-5b5a-42cb-c780-33848b02395f"
      },
      "execution_count": 51,
      "outputs": [
        {
          "output_type": "stream",
          "name": "stdout",
          "text": [
            "\n",
            " A:\n",
            "[[1 7]\n",
            " [1 0]]\n",
            "\n",
            " b_u:\n",
            "[17.5  3.5]\n",
            "\n",
            " b_l:\n",
            "[-inf -inf]\n"
          ]
        }
      ]
    },
    {
      "cell_type": "markdown",
      "source": [
        "These arrays are collected into a single `LinearConstraint` object like:"
      ],
      "metadata": {
        "id": "F6kkJkpxvP59"
      }
    },
    {
      "cell_type": "code",
      "source": [
        "constraints = LinearConstraint(A, b_l, b_u)"
      ],
      "metadata": {
        "id": "rwdi0a3kpz--"
      },
      "execution_count": 52,
      "outputs": []
    },
    {
      "cell_type": "markdown",
      "source": [
        "Finally, the problem states that both decision variables must be integers:"
      ],
      "metadata": {
        "id": "E1kf_LY1vKso"
      }
    },
    {
      "cell_type": "code",
      "source": [
        "integrality = np.ones_like(c)"
      ],
      "metadata": {
        "id": "l6alFQ9DriBs"
      },
      "execution_count": 53,
      "outputs": []
    },
    {
      "cell_type": "code",
      "source": [
        "integrality"
      ],
      "metadata": {
        "colab": {
          "base_uri": "https://localhost:8080/"
        },
        "id": "5WPNyX5Zv8UA",
        "outputId": "f7ea225c-ad3a-4404-c5b2-3a0291218469"
      },
      "execution_count": 54,
      "outputs": [
        {
          "output_type": "execute_result",
          "data": {
            "text/plain": [
              "array([1, 1])"
            ]
          },
          "metadata": {},
          "execution_count": 54
        }
      ]
    },
    {
      "cell_type": "markdown",
      "source": [
        "We solve the problem like:"
      ],
      "metadata": {
        "id": "JwLv9Eikz2Na"
      }
    },
    {
      "cell_type": "code",
      "source": [
        "res = milp(c=c, constraints=constraints, integrality=integrality)\n",
        "res.x"
      ],
      "metadata": {
        "colab": {
          "base_uri": "https://localhost:8080/"
        },
        "id": "_t7J1qgOriIW",
        "outputId": "bc959f2b-e53d-4a2d-a041-724427716822"
      },
      "execution_count": 55,
      "outputs": [
        {
          "output_type": "execute_result",
          "data": {
            "text/plain": [
              "array([3., 2.])"
            ]
          },
          "metadata": {},
          "execution_count": 55
        }
      ]
    },
    {
      "cell_type": "code",
      "source": [],
      "metadata": {
        "id": "OfitJEFGriLX"
      },
      "execution_count": 55,
      "outputs": []
    },
    {
      "cell_type": "code",
      "source": [],
      "metadata": {
        "id": "9eFZ14f_riN1"
      },
      "execution_count": 55,
      "outputs": []
    },
    {
      "cell_type": "markdown",
      "source": [
        "## Comparing Linear and Integer Optimization\n",
        "Let's compare the solution to the integer optimization problem, shown above, with the solution to the corresponding linear optimization problem, in which integer constraints are removed. You might guess that the solution to the integer problem would be the integer point in the feasible region closest to the linear solution — namely, the point $x = 0,  y = 2$. But as you will see next, this is not the case.\n",
        "\n"
      ],
      "metadata": {
        "id": "2GjuWiXUxjs5"
      }
    },
    {
      "cell_type": "markdown",
      "source": [
        "You can solve the relaxed problem without integrality constraints. Or you can use `linprog` function the same privious tutorials."
      ],
      "metadata": {
        "id": "3QDBf7PDyRB5"
      }
    },
    {
      "cell_type": "code",
      "source": [
        "res = milp(c=c, constraints=constraints)  # OR:\n",
        "# from scipy.optimize import linprog; res = linprog(c, A, b_u)\n",
        "res.x"
      ],
      "metadata": {
        "colab": {
          "base_uri": "https://localhost:8080/"
        },
        "id": "ulMvk4xZyPqk",
        "outputId": "ae3535df-1378-417a-d862-b9cbf6b71951"
      },
      "execution_count": 56,
      "outputs": [
        {
          "output_type": "execute_result",
          "data": {
            "text/plain": [
              "array([0. , 2.5])"
            ]
          },
          "metadata": {},
          "execution_count": 56
        }
      ]
    },
    {
      "cell_type": "markdown",
      "source": [
        "The solution to the linear problem occurs at the point x = 0,  y = 2.5, where the objective function equals 25. Here's a graph showing the solutions to both the linear and integer problems.\n",
        "\n",
        "\n",
        "<img src=\"https://developers.google.com/optimization/images/mip/feasible_region_sol.png\" width=\"700\">\n",
        "\n",
        "Notice that the integer solution is not close to the linear solution, compared with most other integer points in the feasible region. In general, the solutions to a linear optimization problem and the corresponding integer optimization problems can be far apart. Because of this, the two types of problems require different methods for their solution."
      ],
      "metadata": {
        "id": "XlsAfo2tsDXM"
      }
    },
    {
      "cell_type": "code",
      "execution_count": 56,
      "metadata": {
        "id": "fai4XxZobCNn"
      },
      "outputs": [],
      "source": []
    },
    {
      "cell_type": "markdown",
      "metadata": {
        "id": "E97vWowha8pU"
      },
      "source": [
        "\n",
        "# Non-linear Programming\n",
        "\n"
      ]
    },
    {
      "cell_type": "markdown",
      "metadata": {
        "id": "o7r-qBiGa8pV"
      },
      "source": [
        "## Nonlinear Programming\n",
        "\n",
        "<img src=\"https://www.researchgate.net/profile/Tamas-Terlaky/publication/260790215/figure/fig1/AS:614092289097741@1523422419670/Example-of-a-nonlinear-optimization-problem-with-the-humpback-function-as-objective_W640.jpg\" width=\"700\">\n",
        "\n",
        "For nonlinear optimization there are many available packages in Python. In this tutorial, you will learn how to use **Scipy** pakcage to solve the following problem:\n",
        "\n",
        "**Minimize: $ x_1 x_4 (x_1 + x_2 + x_3) + x_3$**\n",
        "\n",
        "*Subject to following constraints:*\n",
        "\n",
        "$x_1 x_2 x_3 x_4 \\ge 25$\n",
        "\n",
        "$x_1^2 + x_2^2 + x_3^2 + x_4^2 = 40$\n",
        "\n",
        "$1 \\le x_1 , x_2 , x_3 , x_4 \\le 5$\n",
        "\n",
        "*Initial Guess:*\n",
        "\n",
        "$x_0 = (1,5,5,1)$\n"
      ]
    },
    {
      "cell_type": "markdown",
      "metadata": {
        "id": "HjuRFIbia8pW"
      },
      "source": [
        "### Using Scipy"
      ]
    },
    {
      "cell_type": "code",
      "execution_count": 57,
      "metadata": {
        "id": "wp9UF8W5a8pW",
        "outputId": "c4fb136d-c398-40ed-abec-e60575983342",
        "colab": {
          "base_uri": "https://localhost:8080/"
        }
      },
      "outputs": [
        {
          "output_type": "stream",
          "name": "stdout",
          "text": [
            "Initial SSE Objective: 16.0\n",
            "Final SSE Objective: 17.01401724563517\n",
            "Solution\n",
            "x1 = 1.0\n",
            "x2 = 4.742996096883977\n",
            "x3 = 3.8211546234095715\n",
            "x4 = 1.379407645075325\n"
          ]
        }
      ],
      "source": [
        "import numpy as np\n",
        "from scipy.optimize import minimize\n",
        "\n",
        "def objective(x):\n",
        "    return x[0]*x[3]*(x[0]+x[1]+x[2])+x[2]\n",
        "\n",
        "def constraint1(x):\n",
        "    return x[0]*x[1]*x[2]*x[3]-25.0\n",
        "\n",
        "def constraint2(x):\n",
        "    sum_eq = 40.0\n",
        "    for i in range(4):\n",
        "        sum_eq = sum_eq - x[i]**2\n",
        "    return sum_eq\n",
        "\n",
        "# initial guesses\n",
        "n = 4\n",
        "x0 = np.zeros(n)\n",
        "x0[0] = 1.0\n",
        "x0[1] = 5.0\n",
        "x0[2] = 5.0\n",
        "x0[3] = 1.0\n",
        "\n",
        "# show initial objective\n",
        "print('Initial SSE Objective: ' + str(objective(x0)))\n",
        "\n",
        "# optimize\n",
        "b = (1.0,5.0)\n",
        "bnds = (b, b, b, b)\n",
        "con1 = {'type': 'ineq', 'fun': constraint1}\n",
        "con2 = {'type': 'eq', 'fun': constraint2}\n",
        "cons = ([con1,con2])\n",
        "solution = minimize(objective,x0,method='SLSQP',\\\n",
        "                    bounds=bnds,constraints=cons)\n",
        "x = solution.x\n",
        "\n",
        "# show final objective\n",
        "print('Final SSE Objective: ' + str(objective(x)))\n",
        "\n",
        "# print solution\n",
        "print('Solution')\n",
        "print('x1 = ' + str(x[0]))\n",
        "print('x2 = ' + str(x[1]))\n",
        "print('x3 = ' + str(x[2]))\n",
        "print('x4 = ' + str(x[3]))"
      ]
    },
    {
      "cell_type": "code",
      "execution_count": 57,
      "metadata": {
        "id": "nHij8ehEa8pc"
      },
      "outputs": [],
      "source": []
    }
  ],
  "metadata": {
    "kernelspec": {
      "display_name": "Python 3",
      "language": "python",
      "name": "python3"
    },
    "language_info": {
      "codemirror_mode": {
        "name": "ipython",
        "version": 3
      },
      "file_extension": ".py",
      "mimetype": "text/x-python",
      "name": "python",
      "nbconvert_exporter": "python",
      "pygments_lexer": "ipython3",
      "version": "3.7.6"
    },
    "colab": {
      "provenance": []
    }
  },
  "nbformat": 4,
  "nbformat_minor": 0
}
