{
  "cells": [
    {
      "cell_type": "markdown",
      "metadata": {
        "id": "Qr545u0d_gzf"
      },
      "source": [
        "# Linear Programming Tutorial using Scipy\n",
        "\n",
        "#### Note: You can access the colab version of this notebook [here](https://colab.research.google.com/github/amirkfard/CVL609-W23/blob/main/LinearProgramming.ipynb) .\n",
        "\n",
        "In this tutorial, you will learn how to use Scipy library in Python to model and solve linear programming optimization problems.\n",
        "\n",
        "\n"
      ]
    },
    {
      "cell_type": "markdown",
      "metadata": {
        "id": "hrtnzylD_gzl"
      },
      "source": [
        "## Linear Optimization\n",
        "Linear optimization (or *linear programming*) is the name given to computing the best solution to a problem modeled as a set of linear relationships. These problems arise in many scientific and engineering disciplines. (The word \"programming\" is a bit of a misnomer, similar to how \"computer\" once meant \"a person who computes.\" Here, \"programming\" refers to the arrangement of a plan, rather than programming in a computer language.)"
      ]
    },
    {
      "cell_type": "markdown",
      "metadata": {
        "id": "TKmzo4IQ_gzp"
      },
      "source": [
        "## Required Steps for Solving an LP Problem with Scipy ([ref.](https://docs.scipy.org/doc/scipy/reference/generated/scipy.optimize.linprog.html))\n",
        "The following sections present an example of an LP problem and show how to solve it. Here's the problem:\n",
        "\n",
        "__Maximize $3x + 4y$__ subject to the following constraints:\n",
        "\n",
        "$x + 2y\t≤\t14$\n",
        "\n",
        "$3x – y\t≥\t0$\n",
        "\n",
        "$x – y\t≤\t2$\n",
        "\n",
        "Both the objective function, $3x + 4y$, and the constraints are given by linear expressions, which makes this a linear problem.\n",
        "\n",
        "The constraints define the feasible region, which is the triangle shown below, including its interior.\n",
        "\n",
        "<img src=\"https://developers.google.com/optimization/images/lp/feasible_region.png\" width=\"600\">\n",
        "\n"
      ]
    },
    {
      "cell_type": "code",
      "source": [],
      "metadata": {
        "id": "Qi47flqAOkqj"
      },
      "execution_count": 34,
      "outputs": []
    },
    {
      "cell_type": "markdown",
      "source": [
        "### Basic steps for solving an LP problem\n",
        "\n",
        "To solve a LP problem, your program should include the following steps:\n",
        "\n",
        "The steps for solving a linear programming (LP) problem using the `linprog` function from `Scipy.optimize` are as follows:\n",
        "\n",
        "1. Define the objective function: The objective function is the linear equation that needs to be optimized, for example, maximize the profit or minimize the cost.\n",
        "\n",
        "2. Define the constraints: Constraints are the conditions that the solution must satisfy. These constraints are usually represented as linear inequalities or equalities.\n",
        "\n",
        "3. Formulate the LP problem in standard form: The LP problem needs to be formulated in standard form, which requires the objective function to be minimized and the constraints to be expressed as equalities or inequalities with non-negative variables.\n",
        "\n",
        "4. Import the `linprog` function from Scipy.optimize: To use the `linprog` function, you need to first import it from the Scipy.optimize library.\n",
        "\n",
        "5. Provide the inputs to the `linprog` function: The inputs to the `linprog` function include the coefficients of the objective function, the constraint matrix, the bounds on the variables, and the optimization method (minimization or maximization).\n",
        "\n",
        "4. Call the `linprog` function: Once the inputs have been provided, the `linprog` function can be called to solve the LP problem.\n",
        "\n",
        "5. Interpret the results: The results of the `linprog` function include the optimal values of the variables, the optimal objective value, and the status of the optimization (whether the problem is feasible, infeasible, or unbounded).\n",
        "\n",
        "It's important to note that the `linprog` function in Scipy.optimize assumes that the LP problem is in standard form, so it's necessary to reformulate the problem if it's not already in this form.\n",
        "\n",
        "\n",
        "\n",
        "\n",
        "\n",
        "\n",
        "\n",
        "\n"
      ],
      "metadata": {
        "id": "rDka25ocOlJJ"
      }
    },
    {
      "cell_type": "markdown",
      "metadata": {
        "id": "nbS-7Gd9_gzq"
      },
      "source": [
        "#### Import required libraries and functions\n"
      ]
    },
    {
      "cell_type": "code",
      "execution_count": 35,
      "metadata": {
        "id": "8XYal7F8_gzr"
      },
      "outputs": [],
      "source": [
        "import numpy as np\n",
        "from scipy.optimize import linprog"
      ]
    },
    {
      "cell_type": "markdown",
      "metadata": {
        "id": "QxQvR0Xe_gzs"
      },
      "source": [
        "#### Define the coefficients of the objective function\n",
        "\n",
        "The following code defines the objective function, $3x + 4y$.\n",
        "For using `linprog` function, every objective function must be formulation as a minimization problem. For example, instead of $Maximize$ $f(x,y)=3x + 4y$, we can $Minimize$ $f(x,y)=-3x - 4y$"
      ]
    },
    {
      "cell_type": "code",
      "execution_count": 36,
      "metadata": {
        "id": "cW6l7eDD_gzt"
      },
      "outputs": [],
      "source": [
        "# Define the coefficients for the objective function\n",
        "c = np.array([-3, -4])"
      ]
    },
    {
      "cell_type": "markdown",
      "metadata": {
        "id": "2WpWpzGD_gzt"
      },
      "source": [
        "#### Define the coefficients of the constraints\n"
      ]
    },
    {
      "cell_type": "code",
      "execution_count": 37,
      "metadata": {
        "id": "XZHvi6yP_gzu"
      },
      "outputs": [],
      "source": [
        "# Define the coefficient matrix for the constraints\n",
        "A = np.array([[1, 2], [-3, 1], [1, -1]])\n",
        "# Define the constraints as upper bounds\n",
        "b = np.array([14, 0, 2])"
      ]
    },
    {
      "cell_type": "markdown",
      "metadata": {
        "id": "HPyRCjs2_gzv"
      },
      "source": [
        "#### Define the bounds on the decision variables\n"
      ]
    },
    {
      "cell_type": "code",
      "execution_count": 38,
      "metadata": {
        "id": "titLqQrY_gzw"
      },
      "outputs": [],
      "source": [
        "# Define the bounds for each variable\n",
        "x0_bounds = (0, None)\n",
        "x1_bounds = (0, None)\n",
        "bounds = (x0_bounds, x1_bounds)"
      ]
    },
    {
      "cell_type": "markdown",
      "metadata": {
        "id": "zYgHWi9u_gzw"
      },
      "source": [
        "#### Call the `linprog` function to solve the LP problem\n",
        "\n"
      ]
    },
    {
      "cell_type": "code",
      "execution_count": 39,
      "metadata": {
        "id": "d8JLwBZc_gzx"
      },
      "outputs": [],
      "source": [
        "# Call the linprog function\n",
        "res = linprog(c, A_ub=A, b_ub=b, bounds=bounds, method=\"simplex\")"
      ]
    },
    {
      "cell_type": "markdown",
      "metadata": {
        "id": "F6BcnV36_gzx"
      },
      "source": [
        "#### Print and analyze the results\n",
        "\n"
      ]
    },
    {
      "cell_type": "code",
      "execution_count": 40,
      "metadata": {
        "id": "wa5ZX_Go_gzx",
        "colab": {
          "base_uri": "https://localhost:8080/"
        },
        "outputId": "1765ee69-0edc-4004-9b71-1d090a8755af"
      },
      "outputs": [
        {
          "output_type": "stream",
          "name": "stdout",
          "text": [
            "     con: array([], dtype=float64)\n",
            "     fun: -33.99999999999999\n",
            " message: 'Optimization terminated successfully.'\n",
            "     nit: 4\n",
            "   slack: array([1.77635684e-15, 1.40000000e+01, 4.44089210e-16])\n",
            "  status: 0\n",
            " success: True\n",
            "       x: array([6., 4.])\n",
            "****************************\n",
            "\n",
            "Optimal value: -34.0\n",
            "\n",
            "Optimal variables: x = 6.0 y = 4.0\n",
            "\n",
            "Number of iterations performed: 4\n",
            "\n",
            "Status: Optimization terminated successfully.\n"
          ]
        }
      ],
      "source": [
        "# Print the results\n",
        "print(res)\n",
        "print('****************************')\n",
        "\n",
        "print('\\nOptimal value:', round(res.fun, ndigits=2))\n",
        "print('\\nOptimal variables: x =', round(res.x[0], ndigits=2), 'y =', round(res.x[1], ndigits=2))\n",
        "print('\\nNumber of iterations performed:', res.nit)\n",
        "print('\\nStatus:', res.message)"
      ]
    },
    {
      "cell_type": "markdown",
      "metadata": {
        "id": "9eYjzhyt_gzz"
      },
      "source": [
        "\n",
        "\n",
        "Here is a graph showing the solution:\n",
        "\n",
        "The dashed green line is defined by setting the objective function equal to its optimal value of 34. Any line whose equation has the form 3x + 4y = c is parallel to the dashed line, and 34 is the largest value of c for which the line intersects the feasible region.\n",
        "<img src=\"https://developers.google.com/optimization/images/lp/feasible_region_solution.png\" width=\"600\">\n",
        "\n",
        "\n"
      ]
    },
    {
      "cell_type": "markdown",
      "metadata": {
        "id": "TsrsJc8I_gzz"
      },
      "source": [
        "#### The complete code\n",
        "The complete programs are shown below.\n"
      ]
    },
    {
      "cell_type": "code",
      "execution_count": 41,
      "metadata": {
        "id": "vWb6U4W9_gzz",
        "outputId": "b3e1dc77-1d32-4393-ec94-cdf83c289997",
        "colab": {
          "base_uri": "https://localhost:8080/"
        }
      },
      "outputs": [
        {
          "output_type": "stream",
          "name": "stdout",
          "text": [
            "     con: array([], dtype=float64)\n",
            "     fun: -33.99999999999999\n",
            " message: 'Optimization terminated successfully.'\n",
            "     nit: 4\n",
            "   slack: array([1.77635684e-15, 1.40000000e+01, 4.44089210e-16])\n",
            "  status: 0\n",
            " success: True\n",
            "       x: array([6., 4.])\n",
            "****************************\n",
            "\n",
            "Optimal value: -34.0\n",
            "\n",
            "Optimal variables: x = 6.0 y = 4.0\n",
            "\n",
            "Number of iterations performed: 4\n",
            "\n",
            "Status: Optimization terminated successfully.\n"
          ]
        }
      ],
      "source": [
        "import numpy as np\n",
        "from scipy.optimize import linprog\n",
        "\n",
        "\n",
        "\n",
        "# Define the coefficients for the objective function\n",
        "obj = np.array([-3, -4])\n",
        "\n",
        "# Define the coefficient matrix for the constraints\n",
        "lhs = np.array([[1, 2], [-3, 1], [1, -1]])\n",
        "\n",
        "# Define the constraints as upper bounds\n",
        "rhs = np.array([14, 0, 2])\n",
        "\n",
        "\n",
        "# Define the bounds for each variable\n",
        "x0_bounds = (0, None)\n",
        "x1_bounds = (0, None)\n",
        "bounds = (x0_bounds, x1_bounds)\n",
        "\n",
        "# Call the linprog function\n",
        "res = linprog(c=obj, A_ub=lhs, b_ub=rhs, bounds=bounds, method=\"simplex\")\n",
        "\n",
        "# Print the results\n",
        "print(res)\n",
        "print('****************************')\n",
        "\n",
        "print('\\nOptimal value:', round(res.fun, ndigits=2))\n",
        "print('\\nOptimal variables: x =', round(res.x[0], ndigits=2), 'y =', round(res.x[1], ndigits=2))\n",
        "print('\\nNumber of iterations performed:', res.nit)\n",
        "print('\\nStatus:', res.message)\n",
        "\n"
      ]
    },
    {
      "cell_type": "code",
      "source": [],
      "metadata": {
        "id": "4oCzTEIZXhZj"
      },
      "execution_count": 41,
      "outputs": []
    },
    {
      "cell_type": "markdown",
      "source": [
        "# Example 1 - Production Plan\n"
      ],
      "metadata": {
        "id": "W9LqEgPh5Xcd"
      }
    },
    {
      "cell_type": "markdown",
      "source": [
        "<img src=\"https://github.com/amirkfard/CVL609-W23/blob/main/img/lp-production-plan1.webp?raw=1\" width=\"800\">\n",
        "<img src=\"https://github.com/amirkfard/CVL609-W23/blob/main/img/lp-production-plan2.webp?raw=1\" width=\"800\">\n",
        "<img src=\"https://github.com/amirkfard/CVL609-W23/blob/main/img/production-plan.webp?raw=1\" width=\"800\">"
      ],
      "metadata": {
        "id": "C3O7SZlX5h18"
      }
    },
    {
      "cell_type": "code",
      "source": [
        "import numpy as np\n",
        "from scipy.optimize import linprog\n",
        "\n",
        "# Define the coefficients for the objective function\n",
        "obj = np.array([-3, -5])\n",
        "\n",
        "# Define the coefficient matrix for the constraints\n",
        "lhs = np.array([[1, 0], [0, 2], [3, 2]])\n",
        "\n",
        "# Define the constraints as upper bounds\n",
        "rhs = np.array([4, 8, 18])\n",
        "\n",
        "\n",
        "\n",
        "# Define the bounds for each variable\n",
        "x0_bounds = (0, None)\n",
        "x1_bounds = (0, None)\n",
        "bounds = (x0_bounds, x1_bounds)\n",
        "\n",
        "# Call the linprog function\n",
        "res = linprog(c=obj, A_ub=lhs, b_ub=rhs, bounds=bounds, method=\"simplex\")\n",
        "\n",
        "# Print the results\n",
        "print(res)\n",
        "print('****************************')\n",
        "\n",
        "print('\\nOptimal value:', round(res.fun, ndigits=2))\n",
        "print('\\nOptimal variables: x1 =', round(res.x[0], ndigits=2), 'x2 =', round(res.x[1], ndigits=2))\n",
        "print('\\nNumber of iterations performed:', res.nit)\n",
        "print('\\nStatus:', res.message)\n",
        "\n"
      ],
      "metadata": {
        "colab": {
          "base_uri": "https://localhost:8080/"
        },
        "id": "ksayojPHXiIG",
        "outputId": "15e19ade-3d67-4878-b4bb-b48518f42b3c"
      },
      "execution_count": 42,
      "outputs": [
        {
          "output_type": "stream",
          "name": "stdout",
          "text": [
            "     con: array([], dtype=float64)\n",
            "     fun: -30.0\n",
            " message: 'Optimization terminated successfully.'\n",
            "     nit: 3\n",
            "   slack: array([0.66666667, 0.        , 0.        ])\n",
            "  status: 0\n",
            " success: True\n",
            "       x: array([3.33333333, 4.        ])\n",
            "****************************\n",
            "\n",
            "Optimal value: -30.0\n",
            "\n",
            "Optimal variables: x1 = 3.33 x2 = 4.0\n",
            "\n",
            "Number of iterations performed: 3\n",
            "\n",
            "Status: Optimization terminated successfully.\n"
          ]
        }
      ]
    },
    {
      "cell_type": "code",
      "source": [],
      "metadata": {
        "id": "rsaiigu-6a3x"
      },
      "execution_count": 42,
      "outputs": []
    },
    {
      "cell_type": "code",
      "source": [],
      "metadata": {
        "id": "M7PF8m569zPp"
      },
      "execution_count": 42,
      "outputs": []
    },
    {
      "cell_type": "markdown",
      "source": [
        "# Example 2 - Scaffolding Structure\n"
      ],
      "metadata": {
        "id": "L4nVS38T9zPv"
      }
    },
    {
      "cell_type": "markdown",
      "source": [
        "<img src=\"https://github.com/amirkfard/CVL609-W23/blob/main/img/lp-scaffolding1.webp?raw=1\" width=\"800\">\n",
        "<img src=\"https://github.com/amirkfard/CVL609-W23/blob/main/img/lp-scaffolding2.webp?raw=1\" width=\"800\">\n"
      ],
      "metadata": {
        "id": "7wvhm8pw9zPw"
      }
    },
    {
      "cell_type": "code",
      "source": [
        "import numpy as np\n",
        "from scipy.optimize import linprog\n",
        "\n",
        "\n",
        "# Define the coefficients for the objective function\n",
        "obj = np.array([-1, -1, -1])\n",
        "\n",
        "\n",
        "# Define the coefficient matrix for the constraints\n",
        "lhs = np.array([[1/4, 3/4, 3/8],\n",
        "              [3/4, 1/4, 5/8],\n",
        "              [0  , 3/4, 1/4],\n",
        "              [0  , 1/4, 1/4],\n",
        "              [0  , 0  , 1/2]])\n",
        "\n",
        "# Define the constraints as upper bounds\n",
        "rhs = np.array([400, 400, 150, 150, 75])\n",
        "\n",
        "\n",
        "# Define the bounds for each variable\n",
        "x0_bounds = (0, None)\n",
        "x1_bounds = (0, None)\n",
        "x2_bounds = (0, None)\n",
        "bounds = (x0_bounds, x1_bounds, x2_bounds)\n",
        "\n",
        "# Call the linprog function\n",
        "res = linprog(c=obj, A_ub=lhs, b_ub=rhs, bounds=bounds, method=\"simplex\")\n",
        "\n",
        "# Print the results\n",
        "print(res)\n",
        "print('****************************')\n",
        "\n",
        "print('\\nOptimal value:', round(res.fun, ndigits=2))\n",
        "print('\\nOptimal variables: w1 =', round(res.x[0], ndigits=2), 'w2 =', round(res.x[1], ndigits=2), 'w3 =', round(res.x[2], ndigits=2))\n",
        "print('\\nNumber of iterations performed:', res.nit)\n",
        "print('\\nStatus:', res.message)\n",
        "\n"
      ],
      "metadata": {
        "colab": {
          "base_uri": "https://localhost:8080/"
        },
        "outputId": "05b40e84-5afb-43cb-d151-4b7ed87106d6",
        "id": "VgS2qITF9zPw"
      },
      "execution_count": 43,
      "outputs": [
        {
          "output_type": "stream",
          "name": "stdout",
          "text": [
            "     con: array([], dtype=float64)\n",
            "     fun: -666.6666666666666\n",
            " message: 'Optimization terminated successfully.'\n",
            "     nit: 6\n",
            "   slack: array([133.33333333,   0.        ,   0.        , 100.        ,\n",
            "        75.        ])\n",
            "  status: 0\n",
            " success: True\n",
            "       x: array([466.66666667, 200.        ,   0.        ])\n",
            "****************************\n",
            "\n",
            "Optimal value: -666.67\n",
            "\n",
            "Optimal variables: w1 = 466.67 w2 = 200.0 w3 = 0.0\n",
            "\n",
            "Number of iterations performed: 6\n",
            "\n",
            "Status: Optimization terminated successfully.\n"
          ]
        }
      ]
    },
    {
      "cell_type": "code",
      "source": [],
      "metadata": {
        "id": "cUWkKq8P9zPw"
      },
      "execution_count": 43,
      "outputs": []
    },
    {
      "cell_type": "markdown",
      "source": [
        "# Example 3 - Cost Sharing"
      ],
      "metadata": {
        "id": "Bau8bX4kEMIJ"
      }
    },
    {
      "cell_type": "markdown",
      "source": [
        "<img src=\"https://github.com/amirkfard/CVL609-W23/blob/main/img/lp-cost-sharing1.webp?raw=1\" width=\"800\">\n",
        "<img src=\"https://github.com/amirkfard/CVL609-W23/blob/main/img/lp-cost-sharing2.webp?raw=1\" width=\"800\">\n"
      ],
      "metadata": {
        "id": "AvJECUZPEMIP"
      }
    },
    {
      "cell_type": "code",
      "source": [
        "import numpy as np\n",
        "from scipy.optimize import linprog\n",
        "\n",
        "# Define the coefficients for the objective function\n",
        "obj = np.array([1, 1, 1])\n",
        "\n",
        "\n",
        "# Define the coefficient matrix for the constraints\n",
        "lhs = np.array([[1, 0, 0],\n",
        "              [0, 1, 0],\n",
        "              [0, 0, 1],\n",
        "              [1, 1, 0],\n",
        "              [0, 1, 1],\n",
        "              [1, 0, 1],\n",
        "              [-1, -1, -1]])\n",
        "      \n",
        "\n",
        "# Define the constraints as upper bounds\n",
        "rhs = np.array([1, 1.3, 2.2, 1.7, 2.9, 2.7, -3.6])\n",
        "\n",
        "\n",
        "\n",
        "# Define the bounds for each variable\n",
        "x0_bounds = (0, None)\n",
        "x1_bounds = (0, None)\n",
        "x2_bounds = (0, None)\n",
        "bounds = (x0_bounds, x1_bounds, x2_bounds)\n",
        "\n",
        "# Call the linprog function\n",
        "res = linprog(c=obj, A_ub=lhs, b_ub=rhs, bounds=bounds, method=\"simplex\")\n",
        "\n",
        "# Print the results\n",
        "print(res)\n",
        "print('****************************')\n",
        "\n",
        "print('\\nOptimal value:', round(res.fun, ndigits=2))\n",
        "print('\\nOptimal variables: xA =', round(res.x[0], ndigits=2), 'xB =', round(res.x[1], ndigits=2), 'xC =', round(res.x[2], ndigits=2))\n",
        "print('\\nNumber of iterations performed:', res.nit)\n",
        "print('\\nStatus:', res.message)\n",
        "\n"
      ],
      "metadata": {
        "colab": {
          "base_uri": "https://localhost:8080/"
        },
        "outputId": "60cdaa35-1b58-447d-f171-425ceddad8c8",
        "id": "7cIznVwzEMIP"
      },
      "execution_count": 44,
      "outputs": [
        {
          "output_type": "stream",
          "name": "stdout",
          "text": [
            "     con: array([], dtype=float64)\n",
            "     fun: 3.5999999999999996\n",
            " message: 'Optimization terminated successfully.'\n",
            "     nit: 8\n",
            "   slack: array([ 3.0000000e-01,  4.0000000e-01,  2.0000000e-01,  1.0000000e-01,\n",
            "        0.0000000e+00,  0.0000000e+00, -4.4408921e-16])\n",
            "  status: 0\n",
            " success: True\n",
            "       x: array([0.7, 0.9, 2. ])\n",
            "****************************\n",
            "\n",
            "Optimal value: 3.6\n",
            "\n",
            "Optimal variables: xA = 0.7 xB = 0.9 xC = 2.0\n",
            "\n",
            "Number of iterations performed: 8\n",
            "\n",
            "Status: Optimization terminated successfully.\n"
          ]
        }
      ]
    },
    {
      "cell_type": "markdown",
      "metadata": {
        "id": "3gTK8OTu_gzz"
      },
      "source": [
        "## Example 4 - Water Source"
      ]
    },
    {
      "cell_type": "markdown",
      "metadata": {
        "id": "gMthXpZa_gz0"
      },
      "source": [
        "<img src=\"https://github.com/amirkfard/CVL609/blob/main/img/2_problem.webp?raw=1\" width=\"800\">\n",
        "<img src=\"https://github.com/amirkfard/CVL609/blob/main/img/2_table.webp?raw=1\" width=\"600\">\n",
        "<img src=\"https://github.com/amirkfard/CVL609/blob/main/img/2_model.webp?raw=1\" width=\"800\">"
      ]
    },
    {
      "cell_type": "code",
      "source": [
        "import numpy as np\n",
        "from scipy.optimize import linprog\n",
        "\n",
        "\n",
        "# Define the coefficients for the objective function\n",
        "obj = np.array([500, 1000, 2000])\n",
        "\n",
        "\n",
        "# Define the coefficient matrix for the constraints\n",
        "lhs = np.array([[-1, -1, -1],\n",
        "              [200, 2300, 700]])\n",
        "      \n",
        "\n",
        "# Define the constraints as upper bounds\n",
        "rhs = np.array([-150, 1200*150])\n",
        "\n",
        "\n",
        "# Define the bounds for each variable\n",
        "x0_bounds = (0, 25)\n",
        "x1_bounds = (0, 120)\n",
        "x2_bounds = (0, 100)\n",
        "bounds = (x0_bounds, x1_bounds, x2_bounds)\n",
        "\n",
        "# Call the linprog function\n",
        "res = linprog(c=obj, A_ub=lhs, b_ub=rhs, bounds=bounds, method=\"simplex\")\n",
        "\n",
        "# Print the results\n",
        "print(res)\n",
        "print('****************************')\n",
        "\n",
        "print('\\nOptimal value:', round(res.fun, ndigits=2))\n",
        "print('\\nOptimal variables: x1 =', round(res.x[0], ndigits=2), 'x2 =', round(res.x[1], ndigits=2), 'x3 =', round(res.x[2], ndigits=2))\n",
        "print('\\nNumber of iterations performed:', res.nit)\n",
        "print('\\nStatus:', res.message)\n",
        "\n"
      ],
      "metadata": {
        "id": "vPCmbbEbXviS",
        "colab": {
          "base_uri": "https://localhost:8080/"
        },
        "outputId": "b862c390-d69e-418b-aea1-ef35c3e46f59"
      },
      "execution_count": 45,
      "outputs": [
        {
          "output_type": "stream",
          "name": "stdout",
          "text": [
            "     con: array([], dtype=float64)\n",
            "     fun: 207812.5\n",
            " message: 'Optimization terminated successfully.'\n",
            "     nit: 6\n",
            "   slack: array([0., 0.])\n",
            "  status: 0\n",
            " success: True\n",
            "       x: array([25.    , 54.6875, 70.3125])\n",
            "****************************\n",
            "\n",
            "Optimal value: 207812.5\n",
            "\n",
            "Optimal variables: x1 = 25.0 x2 = 54.69 x3 = 70.31\n",
            "\n",
            "Number of iterations performed: 6\n",
            "\n",
            "Status: Optimization terminated successfully.\n"
          ]
        }
      ]
    },
    {
      "cell_type": "markdown",
      "metadata": {
        "id": "BJXLapxi_gz0"
      },
      "source": [
        "## Example 5 - Wastewater treatment efficiency"
      ]
    },
    {
      "cell_type": "markdown",
      "metadata": {
        "id": "KAs8TEWf_gz0"
      },
      "source": [
        "<img src=\"https://github.com/amirkfard/CVL609/blob/main/img/3_fig.webp?raw=1\" width=\"800\">\n",
        "<img src=\"https://github.com/amirkfard/CVL609/blob/main/img/3_problem1.webp?raw=1\" width=\"800\">\n",
        "<img src=\"https://github.com/amirkfard/CVL609/blob/main/img/3_problem2.webp?raw=1\" width=\"800\">\n",
        "<img src=\"https://github.com/amirkfard/CVL609/blob/main/img/3_model.webp?raw=1\" width=\"800\">"
      ]
    },
    {
      "cell_type": "code",
      "source": [
        "import numpy as np\n",
        "from scipy.optimize import linprog\n",
        "\n",
        "# Define the coefficients for the objective function\n",
        "obj = np.array([2e5, 1e5])\n",
        "\n",
        "\n",
        "# Define the coefficient matrix for the constraints\n",
        "lhs = np.array([[-1, -1]])\n",
        "\n",
        "# Define the constraints as upper bounds\n",
        "rhs = np.array([-100])\n",
        "\n",
        "\n",
        "\n",
        "# Define the bounds for each variable\n",
        "x0_bounds = (50, None)\n",
        "x1_bounds = (35, None)\n",
        "bounds = (x0_bounds, x1_bounds)\n",
        "\n",
        "# Call the linprog function\n",
        "res = linprog(c=obj, A_ub=lhs, b_ub=rhs, bounds=bounds, method=\"simplex\")\n",
        "\n",
        "# Print the results\n",
        "print(res)\n",
        "print('****************************')\n",
        "\n",
        "print('\\nOptimal value:', round(res.fun, ndigits=2))\n",
        "print('\\nOptimal variables: x1 =', round(res.x[0], ndigits=2), 'x2 =', round(res.x[1], ndigits=2))\n",
        "print('\\nNumber of iterations performed:', res.nit)\n",
        "print('\\nStatus:', res.message)\n",
        "\n"
      ],
      "metadata": {
        "id": "7Ts1chPVXytR",
        "colab": {
          "base_uri": "https://localhost:8080/"
        },
        "outputId": "652f576c-52ef-4720-b06d-1d6ccabbef41"
      },
      "execution_count": 46,
      "outputs": [
        {
          "output_type": "stream",
          "name": "stdout",
          "text": [
            "     con: array([], dtype=float64)\n",
            "     fun: 15000000.0\n",
            " message: 'Optimization terminated successfully.'\n",
            "     nit: 2\n",
            "   slack: array([0.])\n",
            "  status: 0\n",
            " success: True\n",
            "       x: array([50., 50.])\n",
            "****************************\n",
            "\n",
            "Optimal value: 15000000.0\n",
            "\n",
            "Optimal variables: x1 = 50.0 x2 = 50.0\n",
            "\n",
            "Number of iterations performed: 2\n",
            "\n",
            "Status: Optimization terminated successfully.\n"
          ]
        }
      ]
    },
    {
      "cell_type": "markdown",
      "metadata": {
        "id": "cyiZA2np_gz1"
      },
      "source": [
        "## Example 6 - Ore Production"
      ]
    },
    {
      "cell_type": "markdown",
      "metadata": {
        "id": "-l8WSi2d_gz1"
      },
      "source": [
        "<img src=\"https://github.com/amirkfard/CVL609/blob/main/img/4_problem.webp?raw=1\" width=\"800\">\n",
        "<img src=\"https://github.com/amirkfard/CVL609/blob/main/img/4_table.webp?raw=1\" width=\"600\">\n",
        "<img src=\"https://github.com/amirkfard/CVL609/blob/main/img/4_model.webp?raw=1\" width=\"800\">"
      ]
    },
    {
      "cell_type": "code",
      "source": [
        "import numpy as np\n",
        "from scipy.optimize import linprog\n",
        "\n",
        "# Define the coefficients for the objective function\n",
        "obj = np.array([180, 160])\n",
        "\n",
        "\n",
        "# Define the coefficient matrix for the constraints\n",
        "lhs = np.array([[-6, -1], [-3, -1], [-4, -6]])\n",
        "\n",
        "# Define the constraints as upper bounds\n",
        "rhs = np.array([-12, -8, -24])\n",
        "\n",
        "\n",
        "# Define the bounds for each variable\n",
        "x0_bounds = (0, None)\n",
        "x1_bounds = (0, None)\n",
        "bounds = (x0_bounds, x1_bounds)\n",
        "\n",
        "# Call the linprog function\n",
        "res = linprog(c=obj, A_ub=lhs, b_ub=rhs, bounds=bounds, method=\"simplex\")\n",
        "\n",
        "# Print the results\n",
        "print(res)\n",
        "print('****************************')\n",
        "\n",
        "print('\\nOptimal value:', round(res.fun, ndigits=2))\n",
        "print('\\nOptimal variables: x1 =', round(res.x[0], ndigits=2), 'x2 =', round(res.x[1], ndigits=2))\n",
        "print('\\nNumber of iterations performed:', res.nit)\n",
        "print('\\nStatus:', res.message)\n",
        "\n"
      ],
      "metadata": {
        "id": "wGORFRHqX2ET",
        "colab": {
          "base_uri": "https://localhost:8080/"
        },
        "outputId": "4c6b3898-2fea-4162-953f-112daf6d3f8d"
      },
      "execution_count": 47,
      "outputs": [
        {
          "output_type": "stream",
          "name": "stdout",
          "text": [
            "     con: array([], dtype=float64)\n",
            "     fun: 765.7142857142858\n",
            " message: 'Optimization terminated successfully.'\n",
            "     nit: 3\n",
            "   slack: array([1.14285714, 0.        , 0.        ])\n",
            "  status: 0\n",
            " success: True\n",
            "       x: array([1.71428571, 2.85714286])\n",
            "****************************\n",
            "\n",
            "Optimal value: 765.71\n",
            "\n",
            "Optimal variables: x1 = 1.71 x2 = 2.86\n",
            "\n",
            "Number of iterations performed: 3\n",
            "\n",
            "Status: Optimization terminated successfully.\n"
          ]
        }
      ]
    },
    {
      "cell_type": "markdown",
      "metadata": {
        "id": "VBkG_n4S_gz1"
      },
      "source": [
        "### Graphical Solution"
      ]
    },
    {
      "cell_type": "code",
      "execution_count": 48,
      "metadata": {
        "id": "PD3fhItw_gz2",
        "outputId": "d8777847-6def-473a-e5dd-0b03a10191b3",
        "colab": {
          "base_uri": "https://localhost:8080/",
          "height": 513
        }
      },
      "outputs": [
        {
          "output_type": "display_data",
          "data": {
            "text/plain": [
              "<Figure size 576x576 with 1 Axes>"
            ],
            "image/png": "[encoded data removed]"
          },
          "metadata": {
            "needs_background": "light"
          }
        }
      ],
      "source": [
        "import numpy as np\n",
        "import matplotlib.pyplot as plt\n",
        "\n",
        "x = np.arange(0, 7)\n",
        "plt.figure(figsize=(8,8))\n",
        "plt.plot(x, 12.0 - 6.0*x, color = 'orange', label = '6x + y >= 12')\n",
        "plt.plot(x, 8.0 - 3*x, color = 'purple', label= ' 3x + y >= 8')\n",
        "plt.plot(x, 4.0 - (4/6)*x, color = 'pink', label= ' 4x + 6y >= 24')\n",
        "plt.axvline(x = 5, color = 'blue',label = 'x <= 5')\n",
        "plt.axhline(y = 5, color = 'red',label = 'y <= 5')\n",
        "plt.plot(x, 4.784 - 1.125*x, color = 'green',linestyle = '--' , label= ' objective fun.')\n",
        "plt.plot(12/7, 20/7, marker=\"o\", markersize=10, markeredgecolor=\"red\", markerfacecolor=\"red\")\n",
        "\n",
        "plt.xlim([0, 8])\n",
        "plt.ylim([0, 8])\n",
        "\n",
        "# Define the boundaries of the feasible area in the plot\n",
        "x = [12/7, 4/3, 7/6, 5, 5]\n",
        "y = [20/7, 4, 5, 5, 4/6]\n",
        "plt.fill(x, y, 'green' , alpha = 0.3)\n",
        "\n",
        "plt.text(3, 3.5, 'Feasible \\n Region', size = '20')\n",
        "plt.annotate('Optimal \\n solution\\n(1.71, 2.86)', xy = (2, 3), size = '12')\n",
        "\n",
        "plt.xlabel(\"x\")\n",
        "plt.ylabel(\"y\")\n",
        "plt.title('LPP:Graphical Solution')\n",
        "plt.grid(True)\n",
        "plt.legend()\n",
        "plt.show()"
      ]
    },
    {
      "cell_type": "markdown",
      "metadata": {
        "id": "GANck6Gp_gz2"
      },
      "source": [
        "## Example 7"
      ]
    },
    {
      "cell_type": "markdown",
      "metadata": {
        "id": "HZqVxHGK_gz2"
      },
      "source": [
        "<img src=\"https://github.com/amirkfard/CVL609/blob/main/img/lp_5_problem.webp?raw=1\" width=\"800\">"
      ]
    },
    {
      "cell_type": "code",
      "source": [
        "import numpy as np\n",
        "from scipy.optimize import linprog\n",
        "\n",
        "# Define the coefficients for the objective function\n",
        "obj = np.array([-140, -160])\n",
        "\n",
        "\n",
        "# Define the coefficient matrix for the constraints\n",
        "lhs = np.array([[2, 4], [5, 5]])\n",
        "\n",
        "# Define the constraints as upper bounds\n",
        "rhs = np.array([28, 50])\n",
        "\n",
        "\n",
        "# Define the bounds for each variable\n",
        "x0_bounds = (0, 8)\n",
        "x1_bounds = (0, 6)\n",
        "bounds = (x0_bounds, x1_bounds)\n",
        "\n",
        "# Call the linprog function\n",
        "res = linprog(c=obj, A_ub=lhs, b_ub=rhs, bounds=bounds, method=\"simplex\")\n",
        "\n",
        "# Print the results\n",
        "print(res)\n",
        "print('****************************')\n",
        "\n",
        "print('\\nOptimal value:', round(res.fun, ndigits=2))\n",
        "print('\\nOptimal variables: x1 =', round(res.x[0], ndigits=2), 'x2 =', round(res.x[1], ndigits=2))\n",
        "print('\\nNumber of iterations performed:', res.nit)\n",
        "print('\\nStatus:', res.message)\n",
        "\n"
      ],
      "metadata": {
        "colab": {
          "base_uri": "https://localhost:8080/"
        },
        "id": "dx_rf7PBKkkE",
        "outputId": "7367f863-099d-40a2-d80b-33060fdec372"
      },
      "execution_count": 49,
      "outputs": [
        {
          "output_type": "stream",
          "name": "stdout",
          "text": [
            "     con: array([], dtype=float64)\n",
            "     fun: -1480.0\n",
            " message: 'Optimization terminated successfully.'\n",
            "     nit: 4\n",
            "   slack: array([0., 0.])\n",
            "  status: 0\n",
            " success: True\n",
            "       x: array([6., 4.])\n",
            "****************************\n",
            "\n",
            "Optimal value: -1480.0\n",
            "\n",
            "Optimal variables: x1 = 6.0 x2 = 4.0\n",
            "\n",
            "Number of iterations performed: 4\n",
            "\n",
            "Status: Optimization terminated successfully.\n"
          ]
        }
      ]
    },
    {
      "cell_type": "code",
      "execution_count": 50,
      "metadata": {
        "id": "lvD78Fx__gz3",
        "outputId": "ca337c3f-9df4-4341-a40d-7a0a254b420f",
        "colab": {
          "base_uri": "https://localhost:8080/",
          "height": 513
        }
      },
      "outputs": [
        {
          "output_type": "display_data",
          "data": {
            "text/plain": [
              "<Figure size 576x576 with 1 Axes>"
            ],
            "image/png": "[encoded data removed]"
          },
          "metadata": {
            "needs_background": "light"
          }
        }
      ],
      "source": [
        "# Plot the optimal solution\n",
        "import numpy as np\n",
        "import matplotlib.pyplot as plt\n",
        "\n",
        "x = np.arange(0, 10)\n",
        "plt.figure(figsize=(8,8))\n",
        "plt.plot(x, 7.0 - 0.5*x, color = 'orange', label = '2x1 + 4x2 <= 28')\n",
        "plt.plot(x, 10 - x, color = 'purple', label= ' 5x1 + 5x2 <= 50')\n",
        "plt.axvline(x = 8, color = 'blue',label = 'x1 <= 8')\n",
        "plt.axhline(y = 6, color = 'red',label = 'x2 <= 6')\n",
        "plt.plot(x, 9.25 - 0.875*x, color = 'green',linestyle = '--'  , label= ' objective fun.')\n",
        "plt.plot(6, 4, marker=\"o\", markersize=10, markeredgecolor=\"red\", markerfacecolor=\"red\")\n",
        "\n",
        "plt.xlim([0, 10])\n",
        "plt.ylim([0, 10])\n",
        "\n",
        "# Define the boundaries of the feasible area in the plot\n",
        "x = [0, 0, 2, 6, 8, 8]\n",
        "y = [0, 6, 6, 4, 2, 0]\n",
        "plt.fill(x, y, 'green' , alpha = 0.3)\n",
        "\n",
        "plt.text(3, 2, 'Feasible \\n Region', size = '20')\n",
        "plt.annotate('Optimal \\n solution\\n(6.0, 4.0)', xy = (6.5, 4.0), size = '12')\n",
        "\n",
        "plt.xlabel(\"Tons of HYDIT to produce (x1)\")\n",
        "plt.ylabel(\"Tons of FILIT to produce (x2)\")\n",
        "plt.title('LPP:Graphical Solution')\n",
        "plt.grid(True)\n",
        "plt.legend()\n",
        "plt.show()"
      ]
    },
    {
      "cell_type": "code",
      "execution_count": 50,
      "metadata": {
        "id": "6a24ghQY_gz3"
      },
      "outputs": [],
      "source": []
    },
    {
      "cell_type": "code",
      "execution_count": 50,
      "metadata": {
        "id": "27mOlNWq_gz3"
      },
      "outputs": [],
      "source": []
    }
  ],
  "metadata": {
    "kernelspec": {
      "display_name": "Python 3",
      "language": "python",
      "name": "python3"
    },
    "language_info": {
      "codemirror_mode": {
        "name": "ipython",
        "version": 3
      },
      "file_extension": ".py",
      "mimetype": "text/x-python",
      "name": "python",
      "nbconvert_exporter": "python",
      "pygments_lexer": "ipython3",
      "version": "3.7.6"
    },
    "colab": {
      "provenance": []
    }
  },
  "nbformat": 4,
  "nbformat_minor": 0
}
