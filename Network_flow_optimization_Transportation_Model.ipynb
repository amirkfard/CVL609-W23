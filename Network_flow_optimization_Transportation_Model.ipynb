{
  "nbformat": 4,
  "nbformat_minor": 0,
  "metadata": {
    "colab": {
      "provenance": []
    },
    "kernelspec": {
      "name": "python3",
      "display_name": "Python 3"
    },
    "language_info": {
      "name": "python"
    }
  },
  "cells": [
    {
      "cell_type": "markdown",
      "source": [
        "In this tutorial, we want to solve the following example:"
      ],
      "metadata": {
        "id": "ag3uuQG4A97i"
      }
    },
    {
      "cell_type": "markdown",
      "source": [
        "#Balanced Example"
      ],
      "metadata": {
        "id": "GgLs_QSlX13b"
      }
    },
    {
      "cell_type": "markdown",
      "source": [
        "<img src=\"https://github.com/amirkfard/CVL609-W23/blob/main/img/mip_81.webp?raw=1\\\" width=\"700\">\n",
        "<img src=\"https://github.com/amirkfard/CVL609-W23/blob/main/img/mip_82.webp?raw=1\\\" width=\"700\">\n",
        "<img src=\"https://github.com/amirkfard/CVL609-W23/blob/main/img/mip_83.webp?raw=1\\\" width=\"700\">\n",
        "<img src=\"https://github.com/amirkfard/CVL609-W23/blob/main/img/mip_84.webp?raw=1\\\" width=\"700\">"
      ],
      "metadata": {
        "id": "umtnEmQ8u_Xd"
      }
    },
    {
      "cell_type": "code",
      "source": [],
      "metadata": {
        "id": "2SvrCrQwvOPF"
      },
      "execution_count": null,
      "outputs": []
    },
    {
      "cell_type": "code",
      "source": [
        "import numpy as np\n",
        "from scipy.optimize import linprog\n",
        "\n",
        "# Define the coefficients for the objective function\n",
        "#               WE WT WO ME MT MO HE HT HO\n",
        "obj = np.array([5, 4, 3, 3, 2, 1, 9, 7, 5])\n"
      ],
      "metadata": {
        "id": "EeNgl-yOZUsW"
      },
      "execution_count": null,
      "outputs": []
    },
    {
      "cell_type": "code",
      "source": [
        "#                WE WT WO ME MT MO HE HT HO               \n",
        "lhs = np.array([[1, 1, 1, 0, 0, 0, 0, 0 ,0],\n",
        "                [0, 0, 0, 1, 1, 1, 0, 0, 0],\n",
        "                [0, 0, 0, 0, 0, 0, 1, 1, 1],\n",
        "                [1, 0, 0, 1, 0, 0, 1, 0, 0],\n",
        "                [0, 1, 0, 0, 1, 0, 0, 1, 0],\n",
        "                [0, 0, 1, 0, 0, 1, 0, 0, 1]])"
      ],
      "metadata": {
        "id": "8GBqjHXoZV1m"
      },
      "execution_count": null,
      "outputs": []
    },
    {
      "cell_type": "code",
      "source": [
        "lhs"
      ],
      "metadata": {
        "colab": {
          "base_uri": "https://localhost:8080/"
        },
        "id": "kdMVJ1EvZV4d",
        "outputId": "7d77841c-0340-4aa3-f465-e8fae689be30"
      },
      "execution_count": null,
      "outputs": [
        {
          "output_type": "execute_result",
          "data": {
            "text/plain": [
              "array([[1, 1, 1, 0, 0, 0, 0, 0, 0],\n",
              "       [0, 0, 0, 1, 1, 1, 0, 0, 0],\n",
              "       [0, 0, 0, 0, 0, 0, 1, 1, 1],\n",
              "       [1, 0, 0, 1, 0, 0, 1, 0, 0],\n",
              "       [0, 1, 0, 0, 1, 0, 0, 1, 0],\n",
              "       [0, 0, 1, 0, 0, 1, 0, 0, 1]])"
            ]
          },
          "metadata": {},
          "execution_count": 3
        }
      ]
    },
    {
      "cell_type": "code",
      "source": [
        "rhs = np.array([100, 300, 300, 300, 200, 200])"
      ],
      "metadata": {
        "id": "CGp5LXPyZV7M"
      },
      "execution_count": null,
      "outputs": []
    },
    {
      "cell_type": "code",
      "source": [
        "rhs"
      ],
      "metadata": {
        "colab": {
          "base_uri": "https://localhost:8080/"
        },
        "id": "FuRPCo2gZV-F",
        "outputId": "bc3f39a8-37ff-451c-8799-637df9810913"
      },
      "execution_count": null,
      "outputs": [
        {
          "output_type": "execute_result",
          "data": {
            "text/plain": [
              "array([100, 300, 300, 300, 200, 200])"
            ]
          },
          "metadata": {},
          "execution_count": 5
        }
      ]
    },
    {
      "cell_type": "code",
      "source": [
        "res = linprog(c=obj, A_eq=lhs, b_eq=rhs, bounds=(0,None), method=\"simplex\")"
      ],
      "metadata": {
        "colab": {
          "base_uri": "https://localhost:8080/"
        },
        "id": "DKhqqJg_ZWBM",
        "outputId": "c5b9ce7e-e385-4337-b9d1-9b845aa12903"
      },
      "execution_count": null,
      "outputs": [
        {
          "output_type": "stream",
          "name": "stderr",
          "text": [
            "<ipython-input-6-7786a95cf412>:1: DeprecationWarning: `method='simplex'` is deprecated and will be removed in SciPy 1.11.0. Please use one of the HiGHS solvers (e.g. `method='highs'`) in new code.\n",
            "  res = linprog(c=obj, A_eq=lhs, b_eq=rhs, bounds=(0,None), method=\"simplex\")\n",
            "<ipython-input-6-7786a95cf412>:1: OptimizeWarning: A_eq does not appear to be of full row rank. To improve performance, check the problem formulation for redundant equality constraints.\n",
            "  res = linprog(c=obj, A_eq=lhs, b_eq=rhs, bounds=(0,None), method=\"simplex\")\n"
          ]
        }
      ]
    },
    {
      "cell_type": "code",
      "source": [
        "print(res)"
      ],
      "metadata": {
        "colab": {
          "base_uri": "https://localhost:8080/"
        },
        "id": "AUeJeOWcb4Bo",
        "outputId": "c32a45af-93ea-4ba2-9f05-6c0953672e0c"
      },
      "execution_count": null,
      "outputs": [
        {
          "output_type": "stream",
          "name": "stdout",
          "text": [
            " message: Optimization terminated successfully.\n",
            " success: True\n",
            "  status: 0\n",
            "     fun: 3000.0\n",
            "       x: [ 0.000e+00  1.000e+02  0.000e+00  3.000e+02  0.000e+00\n",
            "            0.000e+00  0.000e+00  1.000e+02  2.000e+02]\n",
            "     nit: 9\n"
          ]
        }
      ]
    },
    {
      "cell_type": "code",
      "source": [
        "print('****************************')\n",
        "\n",
        "print('\\nOptimal value:', round(res.fun, ndigits=2))\n",
        "print('\\nOptimal variables: WE =', round(res.x[0], ndigits=2), 'WT =', round(res.x[1], ndigits=2), 'WO =', round(res.x[2], ndigits=2),'ME =', round(res.x[3], ndigits=2),'MT =', round(res.x[4], ndigits=2),'MO =', round(res.x[5], ndigits=2),'HE =', round(res.x[6], ndigits=2),'HT =', round(res.x[7], ndigits=2),'HO =', round(res.x[8], ndigits=2))\n",
        "print('\\nNumber of iterations performed:', res.nit)\n",
        "print('\\nStatus:', res.message)"
      ],
      "metadata": {
        "colab": {
          "base_uri": "https://localhost:8080/"
        },
        "id": "cN0spUiJb4EG",
        "outputId": "a36c8deb-b3a3-47f0-97e7-33e476fbbe80"
      },
      "execution_count": null,
      "outputs": [
        {
          "output_type": "stream",
          "name": "stdout",
          "text": [
            "****************************\n",
            "\n",
            "Optimal value: 3000.0\n",
            "\n",
            "Optimal variables: WE = 0.0 WT = 100.0 WO = 0.0 ME = 300.0 MT = 0.0 MO = 0.0 HE = 0.0 HT = 100.0 HO = 200.0\n",
            "\n",
            "Number of iterations performed: 9\n",
            "\n",
            "Status: Optimization terminated successfully.\n"
          ]
        }
      ]
    },
    {
      "cell_type": "code",
      "source": [],
      "metadata": {
        "id": "3s018juwb4Gz"
      },
      "execution_count": null,
      "outputs": []
    },
    {
      "cell_type": "markdown",
      "source": [
        "<img src=\"https://github.com/amirkfard/CVL609-W23/blob/main/img/tranexamp.webp?raw=1\\\" width=\"700\">"
      ],
      "metadata": {
        "id": "YeUsqGmGTgHg"
      }
    },
    {
      "cell_type": "code",
      "source": [
        "import numpy as np\n",
        "from scipy.optimize import linprog\n",
        "\n",
        "# Define the coefficients for the objective function\n",
        "#               1A  1B  1C  2A  2B  2C\n",
        "obj = np.array([15, 35, 25, 10, 30, 40])"
      ],
      "metadata": {
        "id": "tz7j2HuQLkDA"
      },
      "execution_count": null,
      "outputs": []
    },
    {
      "cell_type": "code",
      "source": [
        "#                1A 1B 1C 2A 2B 2C                \n",
        "lhs = np.array([[1, 1, 1, 0, 0, 0],\n",
        "                [0, 0, 0, 1, 1, 1],\n",
        "                [1, 0, 0, 1, 0, 0],\n",
        "                [0, 1, 0, 0, 1, 0],\n",
        "                [0, 0, 1, 0, 0, 1]])"
      ],
      "metadata": {
        "id": "fuSTU9nkLkAX"
      },
      "execution_count": null,
      "outputs": []
    },
    {
      "cell_type": "code",
      "source": [
        "rhs = np.array([40, 50, 30, 30, 30])"
      ],
      "metadata": {
        "id": "io3SCFcjLj9q"
      },
      "execution_count": null,
      "outputs": []
    },
    {
      "cell_type": "code",
      "source": [],
      "metadata": {
        "id": "pBSfL47Q4Vjz"
      },
      "execution_count": null,
      "outputs": []
    },
    {
      "cell_type": "code",
      "source": [
        "res = linprog(c=obj, A_eq=lhs, b_eq=rhs, bounds=(0,20), method=\"simplex\")"
      ],
      "metadata": {
        "colab": {
          "base_uri": "https://localhost:8080/"
        },
        "id": "22uQB1_PLjxn",
        "outputId": "a33e7b46-4e4b-4931-b757-1909ac1d59e3"
      },
      "execution_count": null,
      "outputs": [
        {
          "output_type": "stream",
          "name": "stderr",
          "text": [
            "<ipython-input-20-b6215cd32a56>:1: DeprecationWarning: `method='simplex'` is deprecated and will be removed in SciPy 1.11.0. Please use one of the HiGHS solvers (e.g. `method='highs'`) in new code.\n",
            "  res = linprog(c=obj, A_eq=lhs, b_eq=rhs, bounds=(0,20), method=\"simplex\")\n",
            "<ipython-input-20-b6215cd32a56>:1: OptimizeWarning: A_eq does not appear to be of full row rank. To improve performance, check the problem formulation for redundant equality constraints.\n",
            "  res = linprog(c=obj, A_eq=lhs, b_eq=rhs, bounds=(0,20), method=\"simplex\")\n"
          ]
        }
      ]
    },
    {
      "cell_type": "code",
      "source": [
        "res"
      ],
      "metadata": {
        "id": "vAml6W_6NsZ4",
        "colab": {
          "base_uri": "https://localhost:8080/"
        },
        "outputId": "30e3e23d-fc3d-4bf3-e54a-ad308134d778"
      },
      "execution_count": null,
      "outputs": [
        {
          "output_type": "execute_result",
          "data": {
            "text/plain": [
              " message: Optimization terminated successfully.\n",
              " success: True\n",
              "  status: 0\n",
              "     fun: 2200.0\n",
              "       x: [ 1.000e+01  1.000e+01  2.000e+01  2.000e+01  2.000e+01\n",
              "            1.000e+01]\n",
              "     nit: 12"
            ]
          },
          "metadata": {},
          "execution_count": 21
        }
      ]
    },
    {
      "cell_type": "code",
      "source": [],
      "metadata": {
        "id": "sGH3u40_6aSZ"
      },
      "execution_count": null,
      "outputs": []
    },
    {
      "cell_type": "markdown",
      "source": [
        "#Unbalanced Models\n",
        "\n",
        "\n",
        "\n"
      ],
      "metadata": {
        "id": "rLGv9VtUX8TG"
      }
    },
    {
      "cell_type": "markdown",
      "source": [
        "**Unbalanced Transportation Model**"
      ],
      "metadata": {
        "id": "_fGtNVujIJ-n"
      }
    },
    {
      "cell_type": "code",
      "source": [],
      "metadata": {
        "id": "erAagtQtCD_L"
      },
      "execution_count": null,
      "outputs": []
    },
    {
      "cell_type": "markdown",
      "source": [
        "<img src=\"https://github.com/amirkfard/CVL609-W23/blob/main/img/mip_85.webp?raw=1\\\" width=\"700\">\n",
        "\n",
        "<img src=\"https://github.com/amirkfard/CVL609-W23/blob/main/img/mip_85.webp?raw=1\\\" width=\"700\">"
      ],
      "metadata": {
        "id": "xUvgIt_lXsvR"
      }
    },
    {
      "cell_type": "code",
      "source": [],
      "metadata": {
        "id": "Va4QrTLAL_Lu"
      },
      "execution_count": 1,
      "outputs": []
    },
    {
      "cell_type": "markdown",
      "source": [
        "#Unbalanced Example"
      ],
      "metadata": {
        "id": "AIHR1NyQYJCg"
      }
    },
    {
      "cell_type": "markdown",
      "source": [
        "<img src=\"https://github.com/amirkfard/CVL609-W23/blob/main/img/mip_86.webp?raw=1\\\" width=\"700\">\n"
      ],
      "metadata": {
        "id": "UyOtY4sEYLYh"
      }
    },
    {
      "cell_type": "code",
      "source": [
        "import numpy as np\n",
        "from scipy.optimize import linprog\n",
        "\n",
        "# Define the coefficients for the objective function\n",
        "#               WE WT WO ME MT MO HE HT HO\n",
        "obj = np.array([5, 4, 3, 3, 2, 1, 9, 7, 5])"
      ],
      "metadata": {
        "id": "eVajjkyKMETd"
      },
      "execution_count": null,
      "outputs": []
    },
    {
      "cell_type": "code",
      "source": [
        "#                   WE WT WO ME MT MO HE HT HO               \n",
        "lhs_ub = np.array([[1, 1, 1, 0, 0, 0, 0, 0 ,0],\n",
        "                   [0, 0, 0, 1, 1, 1, 0, 0, 0],\n",
        "                   [0, 0, 0, 0, 0, 0, 1, 1, 1]])"
      ],
      "metadata": {
        "id": "FHhvv-FwMEQV"
      },
      "execution_count": null,
      "outputs": []
    },
    {
      "cell_type": "code",
      "source": [
        "lhs_ub"
      ],
      "metadata": {
        "colab": {
          "base_uri": "https://localhost:8080/"
        },
        "id": "6pQs7WpRjcxT",
        "outputId": "8f16ef06-e76f-4560-9e80-06f1c8ebaad9"
      },
      "execution_count": null,
      "outputs": [
        {
          "output_type": "execute_result",
          "data": {
            "text/plain": [
              "array([[1, 1, 1, 0, 0, 0, 0, 0, 0],\n",
              "       [0, 0, 0, 1, 1, 1, 0, 0, 0],\n",
              "       [0, 0, 0, 0, 0, 0, 1, 1, 1]])"
            ]
          },
          "metadata": {},
          "execution_count": 40
        }
      ]
    },
    {
      "cell_type": "code",
      "source": [
        "#                  WE WT WO ME MT MO HE HT HO               \n",
        "lhs_eq = np.array([[1, 0, 0, 1, 0, 0, 1, 0, 0],\n",
        "                   [0, 1, 0, 0, 1, 0, 0, 1, 0],\n",
        "                   [0, 0, 1, 0, 0, 1, 0, 0, 1]])"
      ],
      "metadata": {
        "id": "Mh8GiyuiMEOE"
      },
      "execution_count": null,
      "outputs": []
    },
    {
      "cell_type": "code",
      "source": [
        "lhs_eq"
      ],
      "metadata": {
        "colab": {
          "base_uri": "https://localhost:8080/"
        },
        "id": "ZTMfb8_kjexO",
        "outputId": "86e23050-7aad-4200-c6b8-bbc94ec95120"
      },
      "execution_count": null,
      "outputs": [
        {
          "output_type": "execute_result",
          "data": {
            "text/plain": [
              "array([[1, 0, 0, 1, 0, 0, 1, 0, 0],\n",
              "       [0, 1, 0, 0, 1, 0, 0, 1, 0],\n",
              "       [0, 0, 1, 0, 0, 1, 0, 0, 1]])"
            ]
          },
          "metadata": {},
          "execution_count": 41
        }
      ]
    },
    {
      "cell_type": "code",
      "source": [
        "rhs = np.array([300, 200, 200])"
      ],
      "metadata": {
        "id": "pHElEuLoMELN"
      },
      "execution_count": null,
      "outputs": []
    },
    {
      "cell_type": "code",
      "source": [
        "rhs_ub = np.array([100, 300, 300])"
      ],
      "metadata": {
        "id": "BExAvoj1fZ4c"
      },
      "execution_count": null,
      "outputs": []
    },
    {
      "cell_type": "code",
      "source": [
        "res = linprog(c= obj, A_ub=lhs_ub, A_eq=lhs_eq, b_ub=rhs_ub, b_eq=rhs, bounds=(0,None), method=\"simplex\")"
      ],
      "metadata": {
        "colab": {
          "base_uri": "https://localhost:8080/"
        },
        "id": "XUL-MSB5MEIi",
        "outputId": "22f8934d-a7a5-46ef-d6fb-f9b4b9c28f9e"
      },
      "execution_count": null,
      "outputs": [
        {
          "output_type": "stream",
          "name": "stderr",
          "text": [
            "<ipython-input-47-13dce18afd50>:1: DeprecationWarning: `method='simplex'` is deprecated and will be removed in SciPy 1.11.0. Please use one of the HiGHS solvers (e.g. `method='highs'`) in new code.\n",
            "  res = linprog(c= obj, A_ub=lhs_ub, A_eq=lhs_eq, b_ub=rhs_ub, b_eq=rhs, bounds=(0,None), method=\"simplex\")\n"
          ]
        }
      ]
    },
    {
      "cell_type": "code",
      "source": [
        "res"
      ],
      "metadata": {
        "id": "M9hRT71ZMEFY",
        "colab": {
          "base_uri": "https://localhost:8080/"
        },
        "outputId": "221c6eb3-5b96-4352-8543-bbac456320da"
      },
      "execution_count": null,
      "outputs": [
        {
          "output_type": "execute_result",
          "data": {
            "text/plain": [
              " message: Optimization terminated successfully.\n",
              " success: True\n",
              "  status: 0\n",
              "     fun: 3000.0\n",
              "       x: [ 1.000e+02  0.000e+00  0.000e+00  2.000e+02  1.000e+02\n",
              "            0.000e+00  0.000e+00  1.000e+02  2.000e+02]\n",
              "     nit: 12"
            ]
          },
          "metadata": {},
          "execution_count": 48
        }
      ]
    },
    {
      "cell_type": "code",
      "source": [],
      "metadata": {
        "id": "2nQ5mJimLkF8"
      },
      "execution_count": null,
      "outputs": []
    },
    {
      "cell_type": "code",
      "source": [],
      "metadata": {
        "id": "XZm3JlN5eyuv"
      },
      "execution_count": null,
      "outputs": []
    },
    {
      "cell_type": "code",
      "source": [],
      "metadata": {
        "id": "_VHKiTYQNsXG"
      },
      "execution_count": null,
      "outputs": []
    },
    {
      "cell_type": "code",
      "source": [],
      "metadata": {
        "id": "ugrJyK_jNsUm"
      },
      "execution_count": null,
      "outputs": []
    },
    {
      "cell_type": "code",
      "source": [],
      "metadata": {
        "id": "BA5mBfOxNsRr"
      },
      "execution_count": null,
      "outputs": []
    },
    {
      "cell_type": "code",
      "source": [],
      "metadata": {
        "id": "TkkHlWBmNsOZ"
      },
      "execution_count": null,
      "outputs": []
    }
  ]
}